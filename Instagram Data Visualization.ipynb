{
 "cells": [
  {
   "cell_type": "markdown",
   "metadata": {},
   "source": [
    "# Instragram Data Visualization"
   ]
  },
  {
   "cell_type": "code",
   "execution_count": 1,
   "metadata": {
    "collapsed": true
   },
   "outputs": [],
   "source": [
    "# data vis imports\n",
    "import pandas as pd\n",
    "import numpy as np\n",
    "import matplotlib.pyplot as plt\n",
    "\n",
    "# data load imports\n",
    "import requests\n",
    "import json\n",
    "\n",
    "%matplotlib inline"
   ]
  },
  {
   "cell_type": "code",
   "execution_count": 2,
   "metadata": {
    "collapsed": true
   },
   "outputs": [],
   "source": [
    "# username of Instragram user you want to run the script on\n",
    "USERNAME = 'radikahl'\n",
    "\n",
    "# Google Maps key. Needed to translate location names into Geo positions\n",
    "MAPS_API_KEY = 'YOUR_KEY'\n",
    "\n",
    "# Google Maps' API endpoint\n",
    "MAPS_API_URL = 'https://maps.googleapis.com/maps/api/geocode/json?address={0}&key={1}'\n",
    "\n",
    "# Instagram's API endpoint\n",
    "INSTAGRAM_URL = 'http://instagram.com/{0}/media'\n",
    "\n",
    "# data dumps\n",
    "json_file = 'data/instagram_posts.json'\n",
    "csv_file = 'data/instagram_posts.csv'\n",
    "\n",
    "# Graph Config\n",
    "title_fontsize = 16"
   ]
  },
  {
   "cell_type": "markdown",
   "metadata": {},
   "source": [
    "## Pull Data from Instagram"
   ]
  },
  {
   "cell_type": "code",
   "execution_count": 3,
   "metadata": {
    "collapsed": false
   },
   "outputs": [
    {
     "name": "stdout",
     "output_type": "stream",
     "text": [
      "Loaded 20 40 60 80 100 115 "
     ]
    }
   ],
   "source": [
    "def extractDataFromInstagram(username):\n",
    "    data = []\n",
    "    max_id = None\n",
    "    more_available = True\n",
    "\n",
    "    while more_available:\n",
    "        url = INSTAGRAM_URL\n",
    "        \n",
    "        if max_id is not None:\n",
    "            url += '?max_id=' + max_id\n",
    "            \n",
    "        response = requests.get(url.format(username))\n",
    "        media = response.json()\n",
    "        data.append(media)\n",
    "        \n",
    "        numAllPosts = len(data)\n",
    "        numAllPosts = sum(len(s['items']) for s in data)\n",
    "        if max_id is None:\n",
    "            print('Loaded', end=' ')\n",
    "\n",
    "        print(numAllPosts, end=' ')\n",
    "        \n",
    "        more_available = False\n",
    "        if 'more_available' in media and media['more_available'] is True:\n",
    "            max_id = media['items'][-1]['id']\n",
    "            more_available = True\n",
    "\n",
    "    return data\n",
    "\n",
    "data = extractDataFromInstagram(USERNAME)"
   ]
  },
  {
   "cell_type": "code",
   "execution_count": 4,
   "metadata": {
    "collapsed": false
   },
   "outputs": [],
   "source": [
    "with open(json_file, 'w') as f:\n",
    "    f.write(json.dumps(data, indent=2))"
   ]
  },
  {
   "cell_type": "markdown",
   "metadata": {},
   "source": [
    "## Load Data into Dataframe"
   ]
  },
  {
   "cell_type": "code",
   "execution_count": 5,
   "metadata": {
    "collapsed": false
   },
   "outputs": [],
   "source": [
    "def loadDataIntoDataFrame(media):\n",
    "    id,link,type,creation_time,likes,comments,location,body = [],[],[],[],[],[],[],[]\n",
    "    for item in media['items']:\n",
    "        #print(item['link'], item['type'])\n",
    "        id.append(item['id'])\n",
    "        link.append(item['link'])\n",
    "        type.append(item['type'])\n",
    "        creation_time.append(item['created_time'])\n",
    "        likes.append(item['likes']['count'])\n",
    "        comments.append(item['comments']['count'])\n",
    "        if item['location'] is not None:\n",
    "            location.append(item['location']['name'])\n",
    "        else:\n",
    "            location.append(np.nan)\n",
    "        if item['caption'] is not None:\n",
    "            body.append(item['caption']['text'])\n",
    "        else:\n",
    "            body.append('')\n",
    "\n",
    "    df = pd.DataFrame(data = [id,link,type,creation_time,likes,comments,location,body]).T\n",
    "    df.columns = ['id','link','type','creation_time','likes','comments','location','body']\n",
    "    df = df.set_index('id')\n",
    "    df['type'] = df['type'].astype('category', categories=['image', 'video'])\n",
    "    df['creation_time'] = pd.to_datetime(df['creation_time'].astype(int), unit='s')\n",
    "    df[['likes', 'comments']] = df[['likes', 'comments']].astype(int)\n",
    "    \n",
    "    return df"
   ]
  },
  {
   "cell_type": "code",
   "execution_count": 6,
   "metadata": {
    "collapsed": false
   },
   "outputs": [],
   "source": [
    "df = pd.DataFrame()\n",
    "for chunk in data:\n",
    "    df = df.append(loadDataIntoDataFrame(chunk))"
   ]
  },
  {
   "cell_type": "code",
   "execution_count": 7,
   "metadata": {
    "collapsed": false
   },
   "outputs": [],
   "source": [
    "# save dataframe as csv\n",
    "df.to_csv(csv_file, index=False, encoding='utf-8')"
   ]
  },
  {
   "cell_type": "markdown",
   "metadata": {},
   "source": [
    "## Vizualize Instragram Post Data"
   ]
  },
  {
   "cell_type": "markdown",
   "metadata": {},
   "source": [
    "### Posts by Day of Week"
   ]
  },
  {
   "cell_type": "code",
   "execution_count": 8,
   "metadata": {
    "collapsed": false
   },
   "outputs": [],
   "source": [
    "df['weekday'] = df['creation_time'].dt.weekday"
   ]
  },
  {
   "cell_type": "code",
   "execution_count": 9,
   "metadata": {
    "collapsed": false
   },
   "outputs": [
    {
     "data": {
      "image/png": "[encoded data removed]",
      "text/plain": [
       "<matplotlib.figure.Figure at 0x1153708d0>"
      ]
     },
     "metadata": {},
     "output_type": "display_data"
    }
   ],
   "source": [
    "weekday_group = df[['weekday', 'type', 'link']].groupby(['weekday','type']).count()\n",
    "\n",
    "weekday_group.index = weekday_group.index.set_levels(\n",
    "    ['Monday', 'Tuesday', 'Wednesday', 'Thursday', 'Friday', 'Saturday', 'Sunday'],\n",
    "    level=0)\n",
    "\n",
    "plot = weekday_group.unstack().plot(kind='bar', stacked=True, figsize=[7, 5], \n",
    "                                    width=0.6, alpha=0.6, color=['#003399', 'g'],\n",
    "                                    edgecolor='k', grid=False)\n",
    "plot.set_title('Posts by Day of Week', fontsize=title_fontsize)\n",
    "plot.set_xlabel(\"Weekday\")\n",
    "plot.set_ylabel(\"Number of Posts\")\n",
    "plot.legend([\"Photos\", \"Videos\"], loc=2, ncol=1)\n",
    "plot.yaxis.grid(True)\n",
    "plot.set_xticklabels(weekday_group.index.levels[0], rotation=45, \n",
    "                     rotation_mode='anchor', ha='right')\n",
    "\n",
    "plt.savefig('images/instagram_posts_weekday.png', dpi=96, bbox_inches='tight')\n",
    "plt.show()"
   ]
  }
 ],
 "metadata": {
  "kernelspec": {
   "display_name": "Python 3",
   "language": "python",
   "name": "python3"
  },
  "language_info": {
   "codemirror_mode": {
    "name": "ipython",
    "version": 3
   },
   "file_extension": ".py",
   "mimetype": "text/x-python",
   "name": "python",
   "nbconvert_exporter": "python",
   "pygments_lexer": "ipython3",
   "version": "3.5.2"
  }
 },
 "nbformat": 4,
 "nbformat_minor": 0
}
